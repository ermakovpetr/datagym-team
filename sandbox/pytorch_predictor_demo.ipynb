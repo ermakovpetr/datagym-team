{
 "cells": [
  {
   "cell_type": "code",
   "execution_count": null,
   "metadata": {},
   "outputs": [],
   "source": [
    "import sys\n",
    "sys.path.append('../src/')"
   ]
  },
  {
   "cell_type": "code",
   "execution_count": null,
   "metadata": {},
   "outputs": [],
   "source": [
    "import numpy as np\n",
    "import torch\n",
    "from scipy import sparse as sp\n",
    "from torch import nn\n",
    "import faiss\n",
    "from tqdm.notebook import tqdm\n",
    "\n",
    "from nn_models import  UserModel\n",
    "from utils import (\n",
    "    ProductEncoder, \n",
    "    coo_to_pytorch_sparse, \n",
    "    make_coo_row, \n",
    "    get_shard_path, \n",
    "    normalized_average_precision\n",
    ")"
   ]
  },
  {
   "cell_type": "code",
   "execution_count": null,
   "metadata": {},
   "outputs": [],
   "source": [
    "class TorchPredictor:\n",
    "    def __init__(self, product_csv_path, user_model_path, knn_index_path, dim):\n",
    "        self.product_encoder = ProductEncoder(product_csv_path)\n",
    "        user_model = UserModel(self.product_encoder.num_products, dim)\n",
    "        user_model.load_state_dict(torch.load(user_model_path))\n",
    "        \n",
    "        self.user_model = user_model\n",
    "        self.knn_index = faiss.read_index(knn_index_path)\n",
    "\n",
    "\n",
    "    def predict(self, trans_history):\n",
    "        user_input_row = coo_to_pytorch_sparse(self.make_coo_row(trans_history, self.product_encoder))\n",
    "        user_vectors = self.user_model(user_input_row).data.numpy()\n",
    "        user_vectors /= np.linalg.norm(user_vectors)\n",
    "        preds = self.knn_index.search(user_vectors, 30)[1][0]\n",
    "        return self.product_encoder.toPid([x for x in preds if x > 0])"
   ]
  },
  {
   "cell_type": "code",
   "execution_count": null,
   "metadata": {},
   "outputs": [],
   "source": [
    "predictor = TorchPredictor(\n",
    "    product_csv_path='../data/raw/products.csv',\n",
    "    user_model_path='../artifacts/embds_d128/user_model_cpu.pth',\n",
    "    knn_index_path='../artifacts/embds_d128/knn.idx',\n",
    "    dim=128\n",
    ")"
   ]
  },
  {
   "cell_type": "code",
   "execution_count": null,
   "metadata": {},
   "outputs": [],
   "source": [
    "scores = []\n",
    "for js in tqdm((json.loads(l) for l in open(get_shard_path(15)))):\n",
    "    gt_items = js[\"target\"][0][\"product_ids\"]\n",
    "    recommended_items = predictor.predict(js[\"transactions_history\"])\n",
    "    scores.append(normalized_average_precision(gt_items, recommended_items))\n",
    "print(np.mean(scores))"
   ]
  }
 ],
 "metadata": {
  "kernelspec": {
   "display_name": "Python 3",
   "language": "python",
   "name": "python3"
  },
  "language_info": {
   "codemirror_mode": {
    "name": "ipython",
    "version": 3
   },
   "file_extension": ".py",
   "mimetype": "text/x-python",
   "name": "python",
   "nbconvert_exporter": "python",
   "pygments_lexer": "ipython3",
   "version": "3.7.5"
  }
 },
 "nbformat": 4,
 "nbformat_minor": 2
}

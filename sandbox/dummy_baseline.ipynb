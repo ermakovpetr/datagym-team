{
 "cells": [
  {
   "cell_type": "code",
   "execution_count": null,
   "metadata": {},
   "outputs": [],
   "source": [
    "import pandas as pd\n",
    "import numpy as np\n",
    "import json\n",
    "from scipy import sparse as sp\n",
    "from tqdm.notebook import tqdm\n",
    "from collections import defaultdict"
   ]
  },
  {
   "cell_type": "code",
   "execution_count": null,
   "metadata": {},
   "outputs": [],
   "source": [
    "import sys\n",
    "sys.path.append('../src')\n",
    "\n",
    "from utils import get_shard_path, normalized_average_precision"
   ]
  },
  {
   "cell_type": "code",
   "execution_count": null,
   "metadata": {},
   "outputs": [],
   "source": [
    "cnt = defaultdict(int)\n",
    "\n",
    "def read_part(path):\n",
    "    for js in tqdm((json.loads(s) for s in open(path))):\n",
    "        for trans in js['transaction_history']:\n",
    "            for product in trans[\"products\"]:\n",
    "                cnt[product[\"product_id\"]] += 1\n",
    "\n",
    "for i in range(4):\n",
    "    read_part(get_shard_path(i))\n",
    "\n",
    "_tmp = list(cnt.keys())\n",
    "top_products = sorted(_tmp, key=lambda x: -cnt[x])"
   ]
  },
  {
   "cell_type": "markdown",
   "metadata": {},
   "source": [
    "# Check MAP@30"
   ]
  },
  {
   "cell_type": "code",
   "execution_count": null,
   "metadata": {},
   "outputs": [],
   "source": [
    "scores = []\n",
    "for js in tqdm((json.loads(s) for s in open(get_shard_path(15)))):\n",
    "    recommended_items = top_products[:30]\n",
    "    gt_items = js[\"target\"][0][\"product_ids\"]\n",
    "    ap = normalized_average_precision(gt_items, recommended_items)\n",
    "    scores.append(ap)\n",
    "np.mean(scores)"
   ]
  }
 ],
 "metadata": {
  "kernelspec": {
   "display_name": "Python 3",
   "language": "python",
   "name": "python3"
  },
  "language_info": {
   "codemirror_mode": {
    "name": "ipython",
    "version": 3
   },
   "file_extension": ".py",
   "mimetype": "text/x-python",
   "name": "python",
   "nbconvert_exporter": "python",
   "pygments_lexer": "ipython3",
   "version": "3.7.5"
  }
 },
 "nbformat": 4,
 "nbformat_minor": 2
}

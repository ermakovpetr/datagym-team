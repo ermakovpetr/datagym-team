{
 "cells": [
  {
   "cell_type": "code",
   "execution_count": null,
   "metadata": {},
   "outputs": [],
   "source": [
    "import sys\n",
    "sys.path.append('../src/')\n",
    "\n",
    "import numpy as np\n",
    "import pandas as pd\n",
    "from scipy import sparse as sp\n",
    "from tqdm.notebook import tqdm\n",
    "import json\n",
    "\n",
    "from utils import (\n",
    "    ProductEncoder,\n",
    "    make_coo_row,\n",
    "    normalized_average_precision,\n",
    "    get_shard_path\n",
    ")\n"
   ]
  },
  {
   "cell_type": "code",
   "execution_count": null,
   "metadata": {},
   "outputs": [],
   "source": [
    "product_encoder = ProductEncoder(\"../data/raw/products.csv\")"
   ]
  },
  {
   "cell_type": "code",
   "execution_count": null,
   "metadata": {},
   "outputs": [],
   "source": [
    "rows = []\n",
    "for i in range(8):\n",
    "    for js in tqdm((json.loads(s) for s in open(get_shard_path(i)))):\n",
    "        rows.append(make_coo_row(js['transaction_history'], product_encoder))\n",
    "train_mat = sp.vstack(rows)"
   ]
  },
  {
   "cell_type": "code",
   "execution_count": null,
   "metadata": {},
   "outputs": [],
   "source": [
    "import implicit\n",
    "\n",
    "for model, tag in [\n",
    "    (implicit.nearest_neighbours.TFIDFRecommender(K=30), \"tfidf200\"),\n",
    "    (implicit.nearest_neighbours.TFIDFRecommender(K=2), \"tfidf2\"),\n",
    "    (implicit.nearest_neighbours.CosineRecommender(K=2), \"cosine2\"),\n",
    "    (implicit.nearest_neighbours.CosineRecommender(K=1), \"cosine1\"),\n",
    "    (implicit.nearest_neighbours.CosineRecommender(K=2), \"cosine2\"),\n",
    "    (implicit.nearest_neighbours.CosineRecommender(K=3), \"cosine3\"),\n",
    "    (implicit.nearest_neighbours.CosineRecommender(K=5), \"cosine5\"),\n",
    "    (implicit.nearest_neighbours.CosineRecommender(K=10), \"cosine10\"),\n",
    "    (implicit.nearest_neighbours.CosineRecommender(K=20), \"cosine20\"),\n",
    "    (implicit.nearest_neighbours.CosineRecommender(K=30), \"cosine30\"),\n",
    "    (implicit.nearest_neighbours.CosineRecommender(K=50), \"cosine50\")\n",
    "    \n",
    "]:\n",
    "    scores = []\n",
    "    model.fit(train_mat.T)\n",
    "    for js in tqdm((json.loads(s) for s in open(get_shard_path(15)))):\n",
    "\n",
    "        row = make_coo_row(js['transaction_history'], product_encoder).tocsr()\n",
    "        raw_recs = model.recommend(userid=0, \n",
    "                                   user_items=row, \n",
    "                                   N=30, \n",
    "                                   filter_already_liked_items=False, \n",
    "                                   recalculate_user=True\n",
    "        )\n",
    "        recommended_items = product_encoder.toPid([idx for (idx, score) in raw_recs])\n",
    "        gt_items = js[\"target\"][0][\"product_ids\"]\n",
    "        ap = normalized_average_precision(gt_items, recommended_items)\n",
    "        scores.append(ap)\n",
    "    print(tag, mean_ap)"
   ]
  }
 ],
 "metadata": {
  "kernelspec": {
   "display_name": "Python 3",
   "language": "python",
   "name": "python3"
  },
  "language_info": {
   "codemirror_mode": {
    "name": "ipython",
    "version": 3
   },
   "file_extension": ".py",
   "mimetype": "text/x-python",
   "name": "python",
   "nbconvert_exporter": "python",
   "pygments_lexer": "ipython3",
   "version": "3.7.5"
  }
 },
 "nbformat": 4,
 "nbformat_minor": 2
}

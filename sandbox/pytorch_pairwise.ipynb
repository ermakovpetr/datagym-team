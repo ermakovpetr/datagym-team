{
 "cells": [
  {
   "cell_type": "code",
   "execution_count": null,
   "metadata": {},
   "outputs": [],
   "source": [
    "import sys\n",
    "sys.path.append('../src/')"
   ]
  },
  {
   "cell_type": "code",
   "execution_count": null,
   "metadata": {},
   "outputs": [],
   "source": [
    "import itertools\n",
    "import json\n",
    "import os\n",
    "from collections import defaultdict\n",
    "from typing import List, Set\n",
    "\n",
    "import numpy as np\n",
    "import pandas as pd\n",
    "import torch\n",
    "from scipy import sparse as sp\n",
    "from torch import nn\n",
    "from tqdm.notebook import tqdm\n",
    "\n",
    "from nn_models import ItemModel, UserModel\n",
    "from utils import (\n",
    "    ProductEncoder,\n",
    "    TrainingSample,\n",
    "    make_coo_row,\n",
    "    coo_to_pytorch_sparse,\n",
    "    normalized_average_precision,\n",
    "    get_shard_path\n",
    ")\n",
    "from train_nn_embeddings import collect_train_data, evaluate"
   ]
  },
  {
   "cell_type": "code",
   "execution_count": null,
   "metadata": {},
   "outputs": [],
   "source": [
    "product_encoder = ProductEncoder(\"../data/raw/products.csv\")\n",
    "train_samples = collect_train_data([get_shard_path(i) for i in range(2)], product_encoder)\n",
    "valid_samples = collect_train_data([get_shard_path(15)], product_encoder)"
   ]
  },
  {
   "cell_type": "code",
   "execution_count": null,
   "metadata": {},
   "outputs": [],
   "source": [
    "def sample_aux_batch(batch: List[TrainingSample], num_pairs: int = 100, max_id: int = 43038):\n",
    "    batch_indices = []\n",
    "    batch_repeat_users = []\n",
    "    for sample in batch:\n",
    "        cur_repeat = 0\n",
    "        assert len(sample.target_items) > 0\n",
    "        \n",
    "        positive_ids = sample.target_items\n",
    "        \n",
    "        candidates = np.hstack([\n",
    "            np.random.choice(list(positive_ids), num_pairs)[:, None],\n",
    "            np.random.choice(max_id, num_pairs)[:, None],\n",
    "        ])\n",
    "        \n",
    "        pairs = [row for row in candidates if row[1] not in positive_ids]\n",
    "        \n",
    "        batch_indices.extend(pairs)\n",
    "        batch_repeat_users.append(len(pairs))\n",
    "\n",
    "    return torch.LongTensor(batch_repeat_users), torch.LongTensor(batch_indices)"
   ]
  },
  {
   "cell_type": "code",
   "execution_count": null,
   "metadata": {},
   "outputs": [],
   "source": [
    "dim = 256\n",
    "user_model = UserModel(product_encoder.num_products, dim)\n",
    "item_model = ItemModel(product_encoder.num_products, dim)\n",
    "\n",
    "criterion = nn.BCEWithLogitsLoss()\n",
    "batch_cnt = 0\n",
    "\n",
    "optimizer = torch.optim.Adam(list(user_model.parameters()) + list(item_model.parameters()), lr=0.01)\n",
    "\n",
    "epoches = [\n",
    "    {\"num_batches\": 512, \"batch_size\": 32, \"num_pairs_per_sample\":16},\n",
    "    {\"num_batches\": 128, \"batch_size\": 64, \"num_pairs_per_sample\": 16},\n",
    "    {\"num_batches\": 128, \"batch_size\": 128, \"num_pairs_per_sample\": 16},\n",
    "    {\"num_batches\": 128, \"batch_size\": 128, \"num_pairs_per_sample\": 16},\n",
    "    {\"num_batches\": 128, \"batch_size\": 128, \"num_pairs_per_sample\": 16},\n",
    "    {\"num_batches\": 128, \"batch_size\": 128, \"num_pairs_per_sample\": 16},\n",
    "    {\"num_batches\": 128, \"batch_size\": 128, \"num_pairs_per_sample\": 16},\n",
    "]"
   ]
  },
  {
   "cell_type": "code",
   "execution_count": null,
   "metadata": {},
   "outputs": [],
   "source": [
    "for epoch in epoches:\n",
    "    for batch_idx in tqdm(range(epoch[\"num_batches\"])):\n",
    "        optimizer.zero_grad()\n",
    "        batch_samples = np.random.choice(train_samples, epoch[\"batch_size\"], replace=False)\n",
    "\n",
    "        _input = coo_to_pytorch_sparse(\n",
    "            sp.vstack([sample.row for sample in batch_samples])\n",
    "        )\n",
    "        _repeat, _idx, = sample_aux_batch(\n",
    "            batch=batch_samples,\n",
    "            num_pairs=epoch[\"num_pairs_per_sample\"],\n",
    "            max_id=product_encoder.num_products\n",
    "        )\n",
    "\n",
    "        raw_users = user_model.forward(_input)\n",
    "        repeated_users = torch.repeat_interleave(raw_users, _repeat, dim=0)\n",
    "        repeated_items = item_model.forward(_idx)\n",
    "\n",
    "        diffs = nn.functional.cosine_similarity(repeated_users[:, None, :], repeated_items, dim=2)\n",
    "        logits = diffs[:, 0] - diffs[:, 1]\n",
    "        loss = criterion(logits, torch.ones_like(logits))\n",
    "        loss.backward()\n",
    "        optimizer.step()\n",
    "        \n",
    "    print(\"[tr] {}\".format(evaluate(user_model, item_model, train_samples[::10])))\n",
    "    print(\"[va] {}\".format(evaluate(user_model, item_model, valid_samples[::3])))"
   ]
  }
 ],
 "metadata": {
  "kernelspec": {
   "display_name": "Python 3",
   "language": "python",
   "name": "python3"
  },
  "language_info": {
   "codemirror_mode": {
    "name": "ipython",
    "version": 3
   },
   "file_extension": ".py",
   "mimetype": "text/x-python",
   "name": "python",
   "nbconvert_exporter": "python",
   "pygments_lexer": "ipython3",
   "version": "3.7.5"
  }
 },
 "nbformat": 4,
 "nbformat_minor": 2
}
